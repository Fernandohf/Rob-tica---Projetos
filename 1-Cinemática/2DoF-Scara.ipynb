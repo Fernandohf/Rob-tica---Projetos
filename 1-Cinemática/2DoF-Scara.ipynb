{
 "cells": [
  {
   "cell_type": "markdown",
   "metadata": {},
   "source": [
    "# Problema:\n",
    "Encontrar as equações de movimentos e reações dos apoios de uma braço de dois graus de liberdade como mostrado na figura.\n",
    "![Robô - 2 Graus de Liberdade](2dscara.png \"Braço - 2 Graus de Liberdade\")"
   ]
  },
  {
   "cell_type": "markdown",
   "metadata": {},
   "source": [
    "## Sistema de Coordenadas\n",
    "A localização dos sistemas de coordendas fixo, `B0`, foi definida na origem do primeiro eixo de rotação da base. Os referenciais móveis, `B1` e `B2`, foram fixados aos centros de massa dos elos. Dessa maneira, também definiu-se os comprimentos de cada elo como sendo `l_1` e `l_2`, e as distância dos centros de massa de cada às juntas como sendo `r_1` e `r_2`."
   ]
  },
  {
   "cell_type": "code",
   "execution_count": 1,
   "metadata": {},
   "outputs": [],
   "source": [
    "# Funções das Bibliotecas Utilizadas\n",
    "from sympy import symbols\n",
    "from sympy.physics.mechanics import dynamicsymbols\n",
    "from sympy.physics.vector import ReferenceFrame\n",
    "\n",
    "# Variáveis Simbólicas\n",
    "theta_1, theta_2 = dynamicsymbols('theta_1 theta_2')\n",
    "l_1, l_2 = symbols('l_1 l_2', positive = True)\n",
    "r_1, r_2 = symbols('r_1 r_2', positive = True)\n",
    "\n",
    "# Referenciais \n",
    "B0 = ReferenceFrame('B0')                 # Referencial Parado\n",
    "B1 = ReferenceFrame('B1')     \n",
    "B1.orient(B0, 'Axis', [theta_1, B0.z])    # Referencial móvel: theta_1 em relação a B0.z \n",
    "B2 = ReferenceFrame('B2')\n",
    "B2.orient(B1, 'Axis', [theta_2, B1.z])    # Referencial móvel: theta_2 em relação a B1.z \n"
   ]
  },
  {
   "cell_type": "markdown",
   "metadata": {},
   "source": [
    "## Matrizes de Rotação\n",
    "Com a definição dos referenciais inerciais as matrizes de rotação entre os referenciais podem ser facilmente encontradas."
   ]
  },
  {
   "cell_type": "code",
   "execution_count": 2,
   "metadata": {},
   "outputs": [
    {
     "data": {
      "text/latex": [
       "\\begin{eqnarray}T_{\\theta_1}&=&\\left[\\begin{matrix}\\cos{\\left (\\theta_{1}{\\left (t \\right )} \\right )} & - \\sin{\\left (\\theta_{1}{\\left (t \\right )} \\right )} & 0\\\\\\sin{\\left (\\theta_{1}{\\left (t \\right )} \\right )} & \\cos{\\left (\\theta_{1}{\\left (t \\right )} \\right )} & 0\\\\0 & 0 & 1\\end{matrix}\\right] T_{\\theta_2}=\\left[\\begin{matrix}\\cos{\\left (\\theta_{2}{\\left (t \\right )} \\right )} & - \\sin{\\left (\\theta_{2}{\\left (t \\right )} \\right )} & 0\\\\\\sin{\\left (\\theta_{2}{\\left (t \\right )} \\right )} & \\cos{\\left (\\theta_{2}{\\left (t \\right )} \\right )} & 0\\\\0 & 0 & 1\\end{matrix}\\right]\\\\T_{\\theta_1, \\theta_2}&=&\\left[\\begin{matrix}\\cos{\\left (\\theta_{1}{\\left (t \\right )} + \\theta_{2}{\\left (t \\right )} \\right )} & - \\sin{\\left (\\theta_{1}{\\left (t \\right )} + \\theta_{2}{\\left (t \\right )} \\right )} & 0\\\\\\sin{\\left (\\theta_{1}{\\left (t \\right )} + \\theta_{2}{\\left (t \\right )} \\right )} & \\cos{\\left (\\theta_{1}{\\left (t \\right )} + \\theta_{2}{\\left (t \\right )} \\right )} & 0\\\\0 & 0 & 1\\end{matrix}\\right]\\end{eqnarray}"
      ],
      "text/plain": [
       "<IPython.core.display.Latex object>"
      ]
     },
     "execution_count": 2,
     "metadata": {},
     "output_type": "execute_result"
    }
   ],
   "source": [
    "# Matrizes de Rotação\n",
    "T_B0B1 = B0.dcm(B1)    # Matriz de rotação de B1 para B0\n",
    "T_B1B2 = B1.dcm(B2)    # Matriz de rotação de B2 para B1\n",
    "\n",
    "T_B0B2 = (B0.dcm(B2)).simplify()     # Matriz de rotação de B0 para B3\n",
    "\n",
    "# Resultados em LaTeX\n",
    "from IPython.display import Latex\n",
    "from sympy import latex\n",
    "\n",
    "Latex(\"\\\\begin{eqnarray}\" +\n",
    "     \"T_{\\\\theta_1}&=\" + \"&\" +str(latex(T_B0B1)) + \" T_{\\\\theta_2}=\" + str(latex(T_B1B2)) + \n",
    "      \"\\\\\\\\T_{\\\\theta_1, \\\\theta_2}&=\" + \"&\" + str(latex(T_B0B2))    + \"\\\\end{eqnarray}\")"
   ]
  },
  {
   "cell_type": "markdown",
   "metadata": {},
   "source": [
    "## "
   ]
  }
 ],
 "metadata": {
  "kernelspec": {
   "display_name": "Python 3",
   "language": "python",
   "name": "python3"
  },
  "language_info": {
   "codemirror_mode": {
    "name": "ipython",
    "version": 3
   },
   "file_extension": ".py",
   "mimetype": "text/x-python",
   "name": "python",
   "nbconvert_exporter": "python",
   "pygments_lexer": "ipython3",
   "version": "3.6.5"
  }
 },
 "nbformat": 4,
 "nbformat_minor": 2
}
